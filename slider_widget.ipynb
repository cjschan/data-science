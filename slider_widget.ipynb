{
 "cells": [
  {
   "cell_type": "code",
   "execution_count": 1,
   "id": "f2fdb418-715e-4c2e-afdc-8d523b7c6e9e",
   "metadata": {},
   "outputs": [],
   "source": [
    "# Import libraries\n",
    "import ipywidgets as widgets\n",
    "from ipywidgets import interactive\n",
    "import matplotlib.pyplot as plt\n",
    "import numpy as np\n",
    "import matplotlib_inline.backend_inline\n",
    "matplotlib_inline.backend_inline.set_matplotlib_formats('svg')"
   ]
  },
  {
   "cell_type": "code",
   "execution_count": 2,
   "id": "a008d741-e349-4994-aacf-d9130fe778b7",
   "metadata": {},
   "outputs": [
    {
     "data": {
      "application/vnd.jupyter.widget-view+json": {
       "model_id": "34db212b483047158dbd61142d32834b",
       "version_major": 2,
       "version_minor": 0
      },
      "text/plain": [
       "interactive(children=(IntSlider(value=1, description='x', max=7, min=1), IntSlider(value=1, description='y', m…"
      ]
     },
     "metadata": {},
     "output_type": "display_data"
    }
   ],
   "source": [
    "# Create slider with manual run button\n",
    "@widgets.interact_manual(x=(1,7), y=(1,11), z=(1,3))\n",
    "\n",
    "# Function that adds x, y, and a constant\n",
    "def add(x=1, y=1, z=1):\n",
    "    number = x + y + z\n",
    "    print(number)"
   ]
  },
  {
   "cell_type": "code",
   "execution_count": 3,
   "id": "fab6bc64-a0f8-4a96-99e1-9c843cdc3cb1",
   "metadata": {},
   "outputs": [],
   "source": [
    "# Create a line given slope m and y-intercept b\n",
    "def line(m,b):\n",
    "    x = np.random.rand(10)\n",
    "    y = m*x + b\n",
    "    plt.plot(x,y)\n",
    "    plt.show()"
   ]
  },
  {
   "cell_type": "code",
   "execution_count": 4,
   "id": "8a0d93c5-432a-4616-9fe4-398d21e8bcab",
   "metadata": {},
   "outputs": [
    {
     "data": {
      "application/vnd.jupyter.widget-view+json": {
       "model_id": "ff0d3b93ed2243098501be4c3fabf7e2",
       "version_major": 2,
       "version_minor": 0
      },
      "text/plain": [
       "interactive(children=(FloatSlider(value=0.0, description='m', max=10.0, min=-10.0, step=0.5), FloatSlider(valu…"
      ]
     },
     "metadata": {},
     "output_type": "display_data"
    }
   ],
   "source": [
    "# Create bounds for m and b\n",
    "interactive(line, m=(-10,10, 0.5), b=(-5,5,0.5))"
   ]
  },
  {
   "cell_type": "code",
   "execution_count": 5,
   "id": "92578899-3d15-4a79-818b-1577b8502cfa",
   "metadata": {},
   "outputs": [],
   "source": [
    "# Create random points\n",
    "def inputs(n):\n",
    "    np.random.seed(123)\n",
    "    x = np.linspace(1,100, num = n)\n",
    "    y = np.random.randint(20, size = n)\n",
    "    return x,y\n",
    "\n",
    "# Plot linear regression line\n",
    "def add_reg(data):\n",
    "    m, b = np.polyfit(data[0], data[1], 1)\n",
    "    x = [1,100]\n",
    "    y = [m*x[0]+b, m*x[1]+b]\n",
    "    plt.plot(x,y, c='red')\n",
    "\n",
    "# Add residuals to the plot\n",
    "def add_resid(data):\n",
    "    n = len(data[0])\n",
    "    m, b = np.polyfit(data[0], data[1], 1)\n",
    "    y_pred = m*data[0] + b\n",
    "    for i in range(n):\n",
    "        plt.plot([data[0][i],data[0][i]],[data[1][i],y_pred[i]], c = 'black')\n",
    "\n",
    "# Show linear regression equation\n",
    "def show_eq(data):\n",
    "    m, b = np.polyfit(data[0], data[1], 1)\n",
    "    m = round(m,3)\n",
    "    b = round(b,3)\n",
    "    plt.text(110,0,'y =' + str(m) + 'x + ' + str(b))\n",
    "\n",
    "# Show correlation coefficient\n",
    "def show_corr(data):\n",
    "    # Note: np.corrcoef gives a correlation matrix\n",
    "    corr_coef = np.corrcoef(data[0],data[1])\n",
    "    corr_coef = round(corr_coef[0,1],3)\n",
    "    plt.text(110,2,'r = ' + str(corr_coef))\n",
    "\n",
    "# Displays scatter plot and other optional elements\n",
    "def plot(n, resid=False, line=False, equation=False, corr=False):\n",
    "    data = inputs(n)\n",
    "    plt.figure()\n",
    "    plt.scatter(data[0],data[1])\n",
    "    if line: add_reg(data)\n",
    "    if resid: add_resid(data)\n",
    "    if equation: show_eq(data)\n",
    "    if corr: show_corr(data)"
   ]
  },
  {
   "cell_type": "code",
   "execution_count": 6,
   "id": "3817c3a5-9c14-4990-8ca8-4f5b70513455",
   "metadata": {},
   "outputs": [
    {
     "data": {
      "application/vnd.jupyter.widget-view+json": {
       "model_id": "d739840bf9084b56b2088c852d5ec9dc",
       "version_major": 2,
       "version_minor": 0
      },
      "text/plain": [
       "interactive(children=(IntSlider(value=11, description='n', max=20, min=2), Checkbox(value=False, description='…"
      ]
     },
     "metadata": {},
     "output_type": "display_data"
    }
   ],
   "source": [
    "# Create slider for the number of points\n",
    "interactive(plot, n=(2, 20, 1))"
   ]
  }
 ],
 "metadata": {
  "kernelspec": {
   "display_name": "Python 3 (ipykernel)",
   "language": "python",
   "name": "python3"
  },
  "language_info": {
   "codemirror_mode": {
    "name": "ipython",
    "version": 3
   },
   "file_extension": ".py",
   "mimetype": "text/x-python",
   "name": "python",
   "nbconvert_exporter": "python",
   "pygments_lexer": "ipython3",
   "version": "3.9.7"
  }
 },
 "nbformat": 4,
 "nbformat_minor": 5
}
