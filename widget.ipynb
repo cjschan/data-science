{
 "cells": [
  {
   "cell_type": "code",
   "execution_count": 1,
   "id": "f2fdb418-715e-4c2e-afdc-8d523b7c6e9e",
   "metadata": {},
   "outputs": [],
   "source": [
    "import ipywidgets as widgets\n",
    "from ipywidgets import interactive\n",
    "import matplotlib.pyplot as plt\n",
    "import numpy as np\n",
    "import matplotlib_inline.backend_inline\n",
    "matplotlib_inline.backend_inline.set_matplotlib_formats('svg')"
   ]
  },
  {
   "cell_type": "code",
   "execution_count": 2,
   "id": "a008d741-e349-4994-aacf-d9130fe778b7",
   "metadata": {},
   "outputs": [
    {
     "data": {
      "application/vnd.jupyter.widget-view+json": {
       "model_id": "f5ed0fd46ede44a99b66caf26f1d8f13",
       "version_major": 2,
       "version_minor": 0
      },
      "text/plain": [
       "interactive(children=(IntSlider(value=1, description='constant', max=3, min=1), IntSlider(value=1, description…"
      ]
     },
     "metadata": {},
     "output_type": "display_data"
    }
   ],
   "source": [
    "@widgets.interact_manual(constant=(1,3), x=(1,7), y=(1,11))\n",
    "\n",
    "def add(constant=1, x=1, y=1):\n",
    "    number = x + y + constant\n",
    "    print(number)"
   ]
  },
  {
   "cell_type": "code",
   "execution_count": 3,
   "id": "fab6bc64-a0f8-4a96-99e1-9c843cdc3cb1",
   "metadata": {},
   "outputs": [],
   "source": [
    "def line(m,c):\n",
    "    x = np.random.rand(10)\n",
    "    y = m*x + c\n",
    "    plt.plot(x,y)\n",
    "    plt.show()"
   ]
  },
  {
   "cell_type": "code",
   "execution_count": 4,
   "id": "8a0d93c5-432a-4616-9fe4-398d21e8bcab",
   "metadata": {},
   "outputs": [
    {
     "data": {
      "application/vnd.jupyter.widget-view+json": {
       "model_id": "4025ad8849b5400596ac14513779b710",
       "version_major": 2,
       "version_minor": 0
      },
      "text/plain": [
       "interactive(children=(FloatSlider(value=0.0, description='m', max=10.0, min=-10.0, step=0.5), FloatSlider(valu…"
      ]
     },
     "metadata": {},
     "output_type": "display_data"
    }
   ],
   "source": [
    "interactive(line, m=(-10,10, 0.5), c=(-5,5,0.5))"
   ]
  },
  {
   "cell_type": "code",
   "execution_count": 5,
   "id": "254649f9-5d09-4069-918a-d94d67e0b4f5",
   "metadata": {},
   "outputs": [],
   "source": [
    "def scatter(n):\n",
    "    x = np.linspace(1,100, num = n)\n",
    "    y = np.random.normal(5,30, size = n)\n",
    "    m, b = np.polyfit(x, y, 1)\n",
    "    for i in range(n):\n",
    "        plt.plot([x[i],x[i]],[y[i],m*x[i]+b], c = 'black')\n",
    "    plt.plot(x, m*x + b, c='red')\n",
    "    plt.title('Scatter plot and regression line \\n y = ' + \n",
    "              str(round(m,3)) + 'x + ' + str(round(b,3)), fontsize=18)\n",
    "    plt.scatter(x,y)\n",
    "    plt.show()"
   ]
  },
  {
   "cell_type": "code",
   "execution_count": 6,
   "id": "3817c3a5-9c14-4990-8ca8-4f5b70513455",
   "metadata": {},
   "outputs": [
    {
     "data": {
      "application/vnd.jupyter.widget-view+json": {
       "model_id": "6bd88b1d1463420187e25126c845c83b",
       "version_major": 2,
       "version_minor": 0
      },
      "text/plain": [
       "interactive(children=(IntSlider(value=51, description='n', min=2), Output()), _dom_classes=('widget-interact',…"
      ]
     },
     "metadata": {},
     "output_type": "display_data"
    }
   ],
   "source": [
    "interactive(scatter, n=(2, 100, 1))"
   ]
  }
 ],
 "metadata": {
  "kernelspec": {
   "display_name": "Python 3 (ipykernel)",
   "language": "python",
   "name": "python3"
  },
  "language_info": {
   "codemirror_mode": {
    "name": "ipython",
    "version": 3
   },
   "file_extension": ".py",
   "mimetype": "text/x-python",
   "name": "python",
   "nbconvert_exporter": "python",
   "pygments_lexer": "ipython3",
   "version": "3.9.7"
  }
 },
 "nbformat": 4,
 "nbformat_minor": 5
}
